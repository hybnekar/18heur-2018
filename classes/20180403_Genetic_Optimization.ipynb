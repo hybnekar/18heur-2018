{
 "cells": [
  {
   "cell_type": "markdown",
   "metadata": {},
   "source": [
    "# Genetic Optimization (Continuation)"
   ]
  },
  {
   "cell_type": "code",
   "execution_count": 1,
   "metadata": {
    "collapsed": true
   },
   "outputs": [],
   "source": [
    "# Import path to source directory (bit of a hack in Jupyter)\n",
    "import sys\n",
    "import os\n",
    "pwd = %pwd\n",
    "sys.path.append(os.path.join(pwd, os.path.join('..', 'src')))\n",
    "\n",
    "# Ensure modules are reloaded on any change (very useful when developing code on the fly)\n",
    "%load_ext autoreload\n",
    "%autoreload 2"
   ]
  },
  {
   "cell_type": "code",
   "execution_count": 2,
   "metadata": {
    "collapsed": true
   },
   "outputs": [],
   "source": [
    "# Import external librarires\n",
    "import numpy as np\n",
    "import pandas as pd\n",
    "from tqdm import tqdm_notebook\n",
    "\n",
    "import matplotlib\n",
    "%matplotlib notebook\n",
    "import matplotlib.pyplot as plt\n",
    "import seaborn as sns\n",
    "sns.set()"
   ]
  },
  {
   "cell_type": "markdown",
   "metadata": {},
   "source": [
    "**Let's use the well-known ``TSPGrid(3, 3)`` for demonstration purposes**"
   ]
  },
  {
   "cell_type": "code",
   "execution_count": 3,
   "metadata": {
    "collapsed": true
   },
   "outputs": [],
   "source": [
    "from objfun_tsp import TSPGrid\n",
    "tsp = TSPGrid(3, 3)"
   ]
  },
  {
   "cell_type": "markdown",
   "metadata": {},
   "source": [
    "# Three different crossover operators:"
   ]
  },
  {
   "cell_type": "markdown",
   "metadata": {},
   "source": [
    "**First, let's assume these are our parents:**"
   ]
  },
  {
   "cell_type": "code",
   "execution_count": 4,
   "metadata": {},
   "outputs": [
    {
     "data": {
      "text/plain": [
       "array([0, 0, 0, 0, 0, 0, 0, 0, 0, 0])"
      ]
     },
     "execution_count": 4,
     "metadata": {},
     "output_type": "execute_result"
    }
   ],
   "source": [
    "x = np.zeros(10, dtype=int)\n",
    "x"
   ]
  },
  {
   "cell_type": "code",
   "execution_count": 5,
   "metadata": {},
   "outputs": [
    {
     "data": {
      "text/plain": [
       "array([9, 9, 9, 9, 9, 9, 9, 9, 9, 9])"
      ]
     },
     "execution_count": 5,
     "metadata": {},
     "output_type": "execute_result"
    }
   ],
   "source": [
    "y = 9*np.ones(10, dtype=int)\n",
    "y"
   ]
  },
  {
   "cell_type": "markdown",
   "metadata": {},
   "source": [
    "## 1. Random mix (baseline class)"
   ]
  },
  {
   "cell_type": "code",
   "execution_count": 6,
   "metadata": {},
   "outputs": [
    {
     "data": {
      "text/plain": [
       "array([9, 9, 0, 9, 9, 9, 0, 9, 0, 9])"
      ]
     },
     "execution_count": 6,
     "metadata": {},
     "output_type": "execute_result"
    }
   ],
   "source": [
    "from heur_go import Crossover\n",
    "co_rnd = Crossover()\n",
    "co_rnd.crossover(x, y)"
   ]
  },
  {
   "cell_type": "markdown",
   "metadata": {},
   "source": [
    "## 2. Uniform n-point crossover"
   ]
  },
  {
   "cell_type": "code",
   "execution_count": 7,
   "metadata": {},
   "outputs": [
    {
     "data": {
      "text/plain": [
       "array([0, 0, 9, 9, 0, 0, 9, 9, 0, 0])"
      ]
     },
     "execution_count": 7,
     "metadata": {},
     "output_type": "execute_result"
    }
   ],
   "source": [
    "from heur_go import UniformMultipoint\n",
    "co_uni = UniformMultipoint(4)\n",
    "co_uni.crossover(x, y)"
   ]
  },
  {
   "cell_type": "markdown",
   "metadata": {},
   "source": [
    "## 3. Random combination"
   ]
  },
  {
   "cell_type": "code",
   "execution_count": 8,
   "metadata": {},
   "outputs": [
    {
     "data": {
      "text/plain": [
       "array([4, 4, 2, 0, 6, 5, 5, 8, 9, 8])"
      ]
     },
     "execution_count": 8,
     "metadata": {},
     "output_type": "execute_result"
    }
   ],
   "source": [
    "from heur_go import RandomCombination\n",
    "co_comb = RandomCombination()\n",
    "co_comb.crossover(x, y)"
   ]
  },
  {
   "cell_type": "markdown",
   "metadata": {},
   "source": [
    "# Demonstration"
   ]
  },
  {
   "cell_type": "code",
   "execution_count": 9,
   "metadata": {
    "collapsed": true
   },
   "outputs": [],
   "source": [
    "from heur_go import GeneticOptimization\n",
    "from aux import CauchyMutation, Correction"
   ]
  },
  {
   "cell_type": "code",
   "execution_count": 10,
   "metadata": {
    "collapsed": true
   },
   "outputs": [],
   "source": [
    "NUM_RUNS = 1000\n",
    "maxeval = 1000"
   ]
  },
  {
   "cell_type": "code",
   "execution_count": 11,
   "metadata": {
    "collapsed": true
   },
   "outputs": [],
   "source": [
    "# prepare battery of crossovers to be tested (with some metadata)\n",
    "crossovers = [\n",
    "    {'crossover': Crossover(), 'name': 'mix'},\n",
    "    {'crossover': UniformMultipoint(1), 'name': 'uni'},  #  test for other n as well!\n",
    "    {'crossover': RandomCombination(), 'name': 'rnd'},\n",
    "]"
   ]
  },
  {
   "cell_type": "code",
   "execution_count": 12,
   "metadata": {},
   "outputs": [
    {
     "data": {
      "application/vnd.jupyter.widget-view+json": {
       "model_id": "9a9ab21162a943b8b8c4f172079e93a0"
      }
     },
     "metadata": {},
     "output_type": "display_data"
    },
    {
     "name": "stdout",
     "output_type": "stream",
     "text": [
      "\n"
     ]
    },
    {
     "data": {
      "application/vnd.jupyter.widget-view+json": {
       "model_id": "38479df70aad419db2421264cd0c39a2"
      }
     },
     "metadata": {},
     "output_type": "display_data"
    },
    {
     "name": "stdout",
     "output_type": "stream",
     "text": [
      "\n"
     ]
    },
    {
     "data": {
      "application/vnd.jupyter.widget-view+json": {
       "model_id": "e8ea7068a408497ca480a253e9a739ac"
      }
     },
     "metadata": {},
     "output_type": "display_data"
    },
    {
     "name": "stdout",
     "output_type": "stream",
     "text": [
      "\n"
     ]
    }
   ],
   "source": [
    "results = pd.DataFrame()\n",
    "for crossover in crossovers:\n",
    "    heur_name = 'GO_{}'.format(crossover['name'])\n",
    "    runs = []\n",
    "    for i in tqdm_notebook(range(NUM_RUNS), 'Testing {}'.format(heur_name)):\n",
    "        run = GeneticOptimization(tsp, maxeval, N=5, M=15, Tsel1=1.0, Tsel2=0.5, \n",
    "                                  mutation=CauchyMutation(r=1.0, correction=Correction(tsp)),\n",
    "                                  crossover=crossover['crossover']).search()\n",
    "        run['run'] = i\n",
    "        run['heur'] = heur_name\n",
    "        run['crossover'] = crossover['name']\n",
    "        runs.append(run)\n",
    "    \n",
    "    \n",
    "    res_df = pd.DataFrame(runs, columns=['heur', 'run', 'crossover', 'best_x', 'best_y', 'neval'])\n",
    "    results = pd.concat([results, res_df], axis=0)"
   ]
  },
  {
   "cell_type": "code",
   "execution_count": 13,
   "metadata": {
    "collapsed": true
   },
   "outputs": [],
   "source": [
    "def rel(x):\n",
    "    return len([n for n in x if n < np.inf])/len(x)\n",
    "def mne(x):\n",
    "    return np.mean([n for n in x if n < np.inf])\n",
    "def feo(x):\n",
    "    return mne(x)/rel(x)"
   ]
  },
  {
   "cell_type": "code",
   "execution_count": 14,
   "metadata": {},
   "outputs": [
    {
     "data": {
      "text/html": [
       "<div>\n",
       "<style>\n",
       "    .dataframe thead tr:only-child th {\n",
       "        text-align: right;\n",
       "    }\n",
       "\n",
       "    .dataframe thead th {\n",
       "        text-align: left;\n",
       "    }\n",
       "\n",
       "    .dataframe tbody tr th {\n",
       "        vertical-align: top;\n",
       "    }\n",
       "</style>\n",
       "<table border=\"1\" class=\"dataframe\">\n",
       "  <thead>\n",
       "    <tr style=\"text-align: right;\">\n",
       "      <th></th>\n",
       "      <th>heur</th>\n",
       "      <th>crossover</th>\n",
       "      <th>feo</th>\n",
       "      <th>mne</th>\n",
       "      <th>rel</th>\n",
       "    </tr>\n",
       "  </thead>\n",
       "  <tbody>\n",
       "    <tr>\n",
       "      <th>0</th>\n",
       "      <td>GO_mix</td>\n",
       "      <td>mix</td>\n",
       "      <td>301.331229</td>\n",
       "      <td>293.797949</td>\n",
       "      <td>0.975</td>\n",
       "    </tr>\n",
       "    <tr>\n",
       "      <th>1</th>\n",
       "      <td>GO_rnd</td>\n",
       "      <td>rnd</td>\n",
       "      <td>289.762993</td>\n",
       "      <td>281.070103</td>\n",
       "      <td>0.970</td>\n",
       "    </tr>\n",
       "    <tr>\n",
       "      <th>2</th>\n",
       "      <td>GO_uni</td>\n",
       "      <td>uni</td>\n",
       "      <td>307.292008</td>\n",
       "      <td>296.536788</td>\n",
       "      <td>0.965</td>\n",
       "    </tr>\n",
       "  </tbody>\n",
       "</table>\n",
       "</div>"
      ],
      "text/plain": [
       "     heur crossover         feo         mne    rel\n",
       "0  GO_mix       mix  301.331229  293.797949  0.975\n",
       "1  GO_rnd       rnd  289.762993  281.070103  0.970\n",
       "2  GO_uni       uni  307.292008  296.536788  0.965"
      ]
     },
     "execution_count": 14,
     "metadata": {},
     "output_type": "execute_result"
    }
   ],
   "source": [
    "results_pivot = results.pivot_table(\n",
    "    index=['heur', 'crossover'],\n",
    "    values=['neval'],\n",
    "    aggfunc=(rel, mne, feo)\n",
    ")['neval']\n",
    "results_pivot = results_pivot.reset_index()\n",
    "results_pivot.sort_values(by='crossover')"
   ]
  },
  {
   "cell_type": "markdown",
   "metadata": {},
   "source": [
    "## Assignments\n",
    "\n",
    "* Thoroughly test different kinds of GO setup, also using the new corrections strategies (`MirrorCorrection` and `ExtensionCorrection`)\n",
    "* Could you think of any other crossover operator? See e.g. https://en.wikipedia.org/wiki/Crossover_(genetic_algorithm) for inspiration\n",
    "* Implement and optimize the following objective function..."
   ]
  },
  {
   "cell_type": "markdown",
   "metadata": {},
   "source": [
    "### Clerc's Zebra-3 objective function\n",
    "\n",
    "Clerc's Zebra-3 problem is a non-trivial binary optimization problem and part of discrete optimization benchmark problems (Hierarchical swarm model: a new approach to optimization, Chen et al, 2010).\n",
    "\n",
    "Zebra-3 function is defined for $d = 3 \\, d^*$, $d^* \\in \\mathbb{N}$ as\n",
    "$$ \\mathrm{z}(\\boldsymbol{\\mathsf{x}}) = \\sum_{k=1}^{d^*} \\mathrm{z}_{1+\\mathrm{mod}(k-1,2)} (\\boldsymbol{\\mathsf{\\xi}}_k) $$\n",
    "where\n",
    "$\\boldsymbol{\\mathsf{\\xi}}_k = (x_{3\\,k-2}, \\ldots, x_{3\\,k})$ and\n",
    "\n",
    "$$\n",
    "\\mathrm{z_1}(\\boldsymbol{\\mathsf{\\xi}}) = \\left\\{\n",
    "\\begin{array}{c l}     \n",
    "    0.9 & \\  \\mathrm{for} \\  | | \\boldsymbol{\\mathsf{\\xi}} | |_1=0 \\\\\n",
    "    0.6 & \\  \\mathrm{for} \\  | | \\boldsymbol{\\mathsf{\\xi}} | | _1=1 \\\\\n",
    "    0.3 & \\  \\mathrm{for} \\  | | \\boldsymbol{\\mathsf{\\xi}} | | _1=2 \\\\\n",
    "    1.0 & \\  \\mathrm{for} \\  | | \\boldsymbol{\\mathsf{\\xi}} | | _1=3  \n",
    "\\end{array}\\right.\n",
    "$$\n",
    "\n",
    "$$\n",
    "\\mathrm{z_2}(\\boldsymbol{\\mathsf{\\xi}}) = \\left\\{\n",
    "\\begin{array}{c l}     \n",
    "    0.9 & \\mathrm{for} \\  | | \\boldsymbol{\\mathsf{\\xi}} | |_1=3 \\\\\n",
    "    0.6 & \\mathrm{for} \\  | | \\boldsymbol{\\mathsf{\\xi}} | |_1=2 \\\\\n",
    "    0.3 & \\mathrm{for} \\  | | \\boldsymbol{\\mathsf{\\xi}} | |_1=1 \\\\\n",
    "    1.0 & \\mathrm{for} \\  | | \\boldsymbol{\\mathsf{\\xi}} | |_1=0 \n",
    "\\end{array}\\right.\n",
    "$$\n",
    "\n",
    "Zebra-3 function is a subject of maximization with maximum value of $d/3$. Therefore  we will minimize \n",
    "\n",
    "$$\\mathrm{f}(\\boldsymbol{\\mathsf{x}})=\\frac{d}{3} - \\mathrm{z}(\\boldsymbol{\\mathsf{x}})$$\n",
    "\n",
    "with $f^* = 0$."
   ]
  },
  {
   "cell_type": "markdown",
   "metadata": {},
   "source": [
    "Illustration in 3D:\n",
    "\n",
    "<img src=\"img/zebra3.png\">"
   ]
  }
 ],
 "metadata": {
  "kernelspec": {
   "display_name": "Python 3",
   "language": "python",
   "name": "python3"
  },
  "language_info": {
   "codemirror_mode": {
    "name": "ipython",
    "version": 3
   },
   "file_extension": ".py",
   "mimetype": "text/x-python",
   "name": "python",
   "nbconvert_exporter": "python",
   "pygments_lexer": "ipython3",
   "version": "3.6.1"
  }
 },
 "nbformat": 4,
 "nbformat_minor": 1
}
